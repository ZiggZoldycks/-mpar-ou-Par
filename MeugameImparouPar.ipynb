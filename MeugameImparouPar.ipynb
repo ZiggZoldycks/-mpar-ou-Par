{
  "nbformat": 4,
  "nbformat_minor": 0,
  "metadata": {
    "colab": {
      "provenance": []
    },
    "kernelspec": {
      "name": "python3",
      "display_name": "Python 3"
    },
    "language_info": {
      "name": "python"
    }
  },
  "cells": [
    {
      "cell_type": "code",
      "execution_count": null,
      "metadata": {
        "id": "rr7adufTj2Jy"
      },
      "outputs": [],
      "source": [
        "Jogador1 = input(\"-> Digite o nome do primeiro jogador: \")\n",
        "Jogador2 = input(\"-> Digite o nome do segundo jogador: \")\n",
        "\n",
        "print(f\"// Quem escolhe primeiro, {Jogador1} ou {Jogador2}?\")\n",
        "primeiro_jogador = input(f\"-> Digite 1 para escolher {Jogador1} ou 2 para escolher {Jogador2}! \")\n",
        "segundo_jogador = None\n",
        "\n",
        "if primeiro_jogador == \"1\":\n",
        "  primeiro_jogador = Jogador1\n",
        "  segundo_jogador = Jogador2\n",
        "elif primeiro_jogador == \"2\":\n",
        "    primeiro_jogador = Jogador2\n",
        "    segundo_jogador = Jogador1\n",
        "\n",
        "print(f\"Então: {primeiro_jogador} e {segundo_jogador}!\")\n",
        "\n",
        "print(\"// Digite 0 para escolher PAR e 1 para ÍMPAR\")\n",
        "escolha = input(f\"-> {primeiro_jogador}, você quer par ou ímpar? \")\n",
        "escolha2 = None\n",
        "\n",
        "if escolha == \"ímpar\" or escolha == \"impar\" or escolha == \"1\":\n",
        "  escolha = \"ÍMPAR\"\n",
        "  escolha2 = \"PAR\"\n",
        "elif escolha == \"par\" or escolha == \"0\":\n",
        "  escolha = \"PAR\"\n",
        "  escolha2 = \"ÍMPAR\"\n",
        "\n",
        "print(f\"// {segundo_jogador} você ficou com {escolha2} e o {primeiro_jogador} escolheu {escolha}.\")\n",
        "\n",
        "numero1 = int(input(f\"-> {primeiro_jogador} escolha um número: \"))\n",
        "numero2 = int(input(f\"-> {segundo_jogador} escolha um número: \"))\n",
        "\n",
        "soma = numero1 + numero2\n",
        "\n",
        "if soma % 2 == 0:\n",
        "  vencedor = \"PAR\"\n",
        "else:\n",
        "  vencedor = \"ÍMPAR\"\n",
        "\n",
        "if vencedor == escolha:\n",
        " print(f\"// {primeiro_jogador} venceu!!!\")\n",
        "else:\n",
        "  print(f\"// {segundo_jogador} venceu!!\")"
      ]
    }
  ]
}